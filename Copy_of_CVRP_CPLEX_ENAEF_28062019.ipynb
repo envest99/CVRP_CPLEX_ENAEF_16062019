{
  "nbformat": 4,
  "nbformat_minor": 0,
  "metadata": {
    "colab": {
      "name": "CVRP_CPLEX_ENAEF_28062019.ipynb",
      "version": "0.3.2",
      "provenance": [],
      "collapsed_sections": [],
      "include_colab_link": true
    },
    "kernelspec": {
      "name": "python3",
      "display_name": "Python 3"
    }
  },
  "cells": [
    {
      "cell_type": "markdown",
      "metadata": {
        "id": "view-in-github",
        "colab_type": "text"
      },
      "source": [
        "<a href=\"https://colab.research.google.com/github/envest99/CVRP_CPLEX_ENAEF_16062019/blob/master/Copy_of_CVRP_CPLEX_ENAEF_28062019.ipynb\" target=\"_parent\"><img src=\"https://colab.research.google.com/assets/colab-badge.svg\" alt=\"Open In Colab\"/></a>"
      ]
    },
    {
      "cell_type": "code",
      "metadata": {
        "id": "BKQaHoxlDJts",
        "colab_type": "code",
        "colab": {}
      },
      "source": [
        "import numpy as np"
      ],
      "execution_count": 0,
      "outputs": []
    },
    {
      "cell_type": "markdown",
      "metadata": {
        "id": "_gIE8RlWYr9k",
        "colab_type": "text"
      },
      "source": [
        "Example of an optimal solution with IBM's CPLEX (MILP)  Solver. The Result of is the total length 85.72 (line 14/ line 13: objective accuracy 0.49%) with an elapsed time of 10minutes 30 sec.  and 103'172.19 ticks. The MILP (mixed integer linear programming) iterates by continously comparing with the relaxed (no constraints and no integers) optimal solution. If the accuracy is to big, two sub problems are created and separatly solved in order to gain time. "
      ]
    },
    {
      "cell_type": "code",
      "metadata": {
        "id": "55w1nztZDW2N",
        "colab_type": "code",
        "outputId": "c641a924-cd83-4f6a-cb22-175b5e85b99d",
        "colab": {
          "base_uri": "https://localhost:8080/",
          "height": 153
        }
      },
      "source": [
        "pip install docplex"
      ],
      "execution_count": 2,
      "outputs": [
        {
          "output_type": "stream",
          "text": [
            "Requirement already satisfied: docplex in /usr/local/lib/python3.6/dist-packages (2.9.141)\n",
            "Requirement already satisfied: docloud>=1.0.315 in /usr/local/lib/python3.6/dist-packages (from docplex) (1.0.375)\n",
            "Requirement already satisfied: six in /usr/local/lib/python3.6/dist-packages (from docplex) (1.12.0)\n",
            "Requirement already satisfied: requests in /usr/local/lib/python3.6/dist-packages (from docplex) (2.21.0)\n",
            "Requirement already satisfied: idna<2.9,>=2.5 in /usr/local/lib/python3.6/dist-packages (from requests->docplex) (2.8)\n",
            "Requirement already satisfied: urllib3<1.25,>=1.21.1 in /usr/local/lib/python3.6/dist-packages (from requests->docplex) (1.24.3)\n",
            "Requirement already satisfied: chardet<3.1.0,>=3.0.2 in /usr/local/lib/python3.6/dist-packages (from requests->docplex) (3.0.4)\n",
            "Requirement already satisfied: certifi>=2017.4.17 in /usr/local/lib/python3.6/dist-packages (from requests->docplex) (2019.6.16)\n"
          ],
          "name": "stdout"
        }
      ]
    },
    {
      "cell_type": "code",
      "metadata": {
        "id": "PQQuuyyBDY2W",
        "colab_type": "code",
        "outputId": "ddbbe771-f1f7-44b7-f61e-1b241712c46b",
        "colab": {
          "base_uri": "https://localhost:8080/",
          "height": 34
        }
      },
      "source": [
        "pip install CPLEX"
      ],
      "execution_count": 3,
      "outputs": [
        {
          "output_type": "stream",
          "text": [
            "Requirement already satisfied: CPLEX in /usr/local/lib/python3.6/dist-packages (12.8.0.1)\n"
          ],
          "name": "stdout"
        }
      ]
    },
    {
      "cell_type": "code",
      "metadata": {
        "id": "lpJFpprgDZMi",
        "colab_type": "code",
        "colab": {}
      },
      "source": [
        "n= 15\n",
        "Q= 90\n",
        "N= [i for i in range(1,n+1)]\n",
        "V=[0] + N\n",
        "#q={i:rnd.randint(1,10) for i in N}"
      ],
      "execution_count": 0,
      "outputs": []
    },
    {
      "cell_type": "code",
      "metadata": {
        "id": "MO6yn9XoDZjU",
        "colab_type": "code",
        "colab": {}
      },
      "source": [
        "loc_x = [8.5, 0, 5.1, 8.8, 10.6, 12, 15.7, 16.1, 12.6, 15, 10, 16, 8, 5.5, 4, 2.3]\n",
        "loc_y = [6.8, 2.5, 2.75, 4.4, 0, 4, 1.4, 4.8, 7, 9.2, 10.9, 13.3, 12.8, 8.6, 13, 7.2]"
      ],
      "execution_count": 0,
      "outputs": []
    },
    {
      "cell_type": "code",
      "metadata": {
        "id": "Y87hLUI2DZ5J",
        "colab_type": "code",
        "colab": {}
      },
      "source": [
        "q = {1: 23,\n",
        " 2: 9,\n",
        " 3: 29,\n",
        " 4: 10,\n",
        " 5: 21,\n",
        " 6: 5,\n",
        " 7: 11,\n",
        " 8: 19,\n",
        " 9: 30,\n",
        " 10: 7,\n",
        " 11: 16,\n",
        " 12: 23,\n",
        " 13: 15,\n",
        " 14: 19,\n",
        " 15: 21}"
      ],
      "execution_count": 0,
      "outputs": []
    },
    {
      "cell_type": "code",
      "metadata": {
        "id": "NijTz9eFDaQD",
        "colab_type": "code",
        "colab": {}
      },
      "source": [
        "import matplotlib.pyplot as plt"
      ],
      "execution_count": 0,
      "outputs": []
    },
    {
      "cell_type": "code",
      "metadata": {
        "id": "PCB-Bn0CDppG",
        "colab_type": "code",
        "outputId": "b07de97c-9cbd-40ed-8938-ff0b8cfa8403",
        "colab": {
          "base_uri": "https://localhost:8080/",
          "height": 270
        }
      },
      "source": [
        "plt.scatter(loc_x[1:],loc_y[1:],c='b')\n",
        "for i in N:\n",
        "    plt.annotate('$q_%d=%d$'%(i,q[i]),(loc_x[i]+2,loc_y[i]))\n",
        "plt.plot(loc_x[0],loc_y[0],c='r',marker='s')\n",
        "plt.axis('equal');"
      ],
      "execution_count": 8,
      "outputs": [
        {
          "output_type": "display_data",
          "data": {
            "image/png": "[encoded data removed]",
            "text/plain": [
              "<Figure size 432x288 with 1 Axes>"
            ]
          },
          "metadata": {
            "tags": []
          }
        }
      ]
    },
    {
      "cell_type": "code",
      "metadata": {
        "id": "z6n8OACHDp-W",
        "colab_type": "code",
        "colab": {}
      },
      "source": [
        "A = [(i,j) for i in V for j in V if i!=j]\n",
        "c = {(i,j):np.hypot(loc_x[i]-loc_x[j],loc_y[i]-loc_y[j]) for i,j in A}"
      ],
      "execution_count": 0,
      "outputs": []
    },
    {
      "cell_type": "code",
      "metadata": {
        "id": "J5GecLjVEUzx",
        "colab_type": "code",
        "colab": {}
      },
      "source": [
        "from docplex.mp.model import Model"
      ],
      "execution_count": 0,
      "outputs": []
    },
    {
      "cell_type": "code",
      "metadata": {
        "id": "Q8zdd_gxEVP4",
        "colab_type": "code",
        "colab": {}
      },
      "source": [
        "mdl = Model('CVRP')"
      ],
      "execution_count": 0,
      "outputs": []
    },
    {
      "cell_type": "code",
      "metadata": {
        "id": "YE3kzJRNEd-m",
        "colab_type": "code",
        "colab": {}
      },
      "source": [
        "x = mdl.binary_var_dict(A,name='x')\n",
        "u = mdl.continuous_var_dict(N,ub=Q,name='u')"
      ],
      "execution_count": 0,
      "outputs": []
    },
    {
      "cell_type": "code",
      "metadata": {
        "id": "420zh6cUDqYo",
        "colab_type": "code",
        "outputId": "a1fea535-0477-4a30-b0b1-3be69afe0a77",
        "colab": {
          "base_uri": "https://localhost:8080/",
          "height": 1000
        }
      },
      "source": [
        "mdl.minimize(mdl.sum(c[i,j]*x[i,j] for i,j in A))\n",
        "mdl.add_constraints(mdl.sum(x[i,j] for j in V if j!=i)==1 for i in N)\n",
        "mdl.add_constraints(mdl.sum(x[i,j] for i in V if i!=j)==1 for j in N)\n",
        "mdl.add_indicator_constraints(mdl.indicator_constraint(x[i,j],u[i]+q[j]==u[j]) for i,j in A if i!=0 and j!=0)\n",
        "mdl.add_constraints(u[i]>=q[i] for i in N)\n",
        "solution = mdl.solve(log_output=True)"
      ],
      "execution_count": 13,
      "outputs": [
        {
          "output_type": "stream",
          "text": [
            "CPXPARAM_Read_DataCheck                          1\n",
            "Found incumbent of value 188.815404 after 0.00 sec. (0.03 ticks)\n",
            "Tried aggregator 2 times.\n",
            "MIP Presolve eliminated 15 rows and 0 columns.\n",
            "MIP Presolve modified 105 coefficients.\n",
            "Aggregator did 105 substitutions.\n",
            "Reduced MIP has 135 rows, 360 columns, and 765 nonzeros.\n",
            "Reduced MIP has 240 binaries, 0 generals, 0 SOSs, and 210 indicators.\n",
            "Presolve time = 0.03 sec. (0.86 ticks)\n",
            "Probing time = 0.02 sec. (1.09 ticks)\n",
            "Tried aggregator 1 time.\n",
            "Reduced MIP has 135 rows, 360 columns, and 765 nonzeros.\n",
            "Reduced MIP has 240 binaries, 0 generals, 0 SOSs, and 210 indicators.\n",
            "Presolve time = 0.01 sec. (0.53 ticks)\n",
            "Probing time = 0.01 sec. (1.05 ticks)\n",
            "Clique table members: 135.\n",
            "MIP emphasis: balance optimality and feasibility.\n",
            "MIP search method: dynamic search.\n",
            "Parallel mode: deterministic, using up to 2 threads.\n",
            "Root relaxation solution time = 0.00 sec. (0.29 ticks)\n",
            "\n",
            "        Nodes                                         Cuts/\n",
            "   Node  Left     Objective  IInf  Best Integer    Best Bound    ItCnt     Gap\n",
            "\n",
            "*     0+    0                          188.8154        0.0000           100.00%\n",
            "      0     0       60.8290    15      188.8154       60.8290       21   67.78%\n",
            "      0     0       63.5422    11      188.8154      Cuts: 36       33   66.35%\n",
            "      0     0       63.5422    10      188.8154  Impl Bds: 22       43   66.35%\n",
            "      0     0       63.5422    30      188.8154  Impl Bds: 19       53   66.35%\n",
            "*     0+    0                           94.9259       63.5422            33.06%\n",
            "      0     2       63.5422    15       94.9259       63.5422       53   33.06%\n",
            "Elapsed time = 0.25 sec. (10.02 ticks, tree = 0.01 MB, solutions = 2)\n",
            "*    80    54      integral     0       93.1495       63.5422      296   31.78%\n",
            "*   277+  169                           88.8738       64.9649            26.90%\n",
            "*   862   503      integral     0       86.9656       66.4682     4640   23.57%\n",
            "   2657   440       73.5397    14       86.9656       67.9318    19670   21.89%\n",
            "   4737  1464       82.9256    17       86.9656       68.7887    38451   20.90%\n",
            "   6550  2255       74.8131    18       86.9656       69.6189    54979   19.95%\n",
            "   8569  3064        cutoff             86.9656       69.9971    72429   19.51%\n",
            "  10406  3782       73.6976    11       86.9656       70.4081    90273   19.04%\n",
            "  12106  4362       85.2764    17       86.9656       70.8110   105853   18.58%\n",
            "  13692  4954       81.7312    11       86.9656       71.1345   124014   18.20%\n",
            "  15457  5441        cutoff             86.9656       71.3352   138603   17.97%\n",
            "  21766  7558       73.8717    19       86.9656       72.2596   201479   16.91%\n",
            "Elapsed time = 15.43 sec. (2935.87 ticks, tree = 2.58 MB, solutions = 5)\n",
            "  28128  9722       79.8781    20       86.9656       72.9570   269334   16.11%\n",
            "  34406 11850       78.0336    20       86.9656       73.4935   333424   15.49%\n",
            "  40466 13660       86.0539     7       86.9656       73.8902   391366   15.04%\n",
            "  46476 15657       84.2365    18       86.9656       74.3158   455561   14.55%\n",
            "  52353 17541       82.6666    18       86.9656       74.6012   518665   14.22%\n",
            "* 55572 18432      integral     0       86.7171       74.7750   547870   13.77%\n",
            "  58090 19039       75.1307    22       86.7171       74.9198   573233   13.60%\n",
            "* 62544+20239                           85.8216       75.1243            12.46%\n",
            "  63412 19938        cutoff             85.8216       75.1761   627835   12.40%\n",
            "* 68305 21102      integral     0       85.7200       75.3564   678462   12.09%\n",
            "  68626 21248       78.6613    21       85.7200       75.4125   684495   12.02%\n",
            "  73881 22152    infeasible             85.7200       75.6076   730654   11.80%\n",
            "  79401 23405       82.7969    20       85.7200       75.8681   792174   11.49%\n",
            "Elapsed time = 68.39 sec. (12474.02 ticks, tree = 8.69 MB, solutions = 9)\n",
            "  84701 24501    infeasible             85.7200       76.0769   851483   11.25%\n",
            "  90357 25386       76.6446    25       85.7200       76.2672   899767   11.03%\n",
            "  95854 26398       80.3848    18       85.7200       76.4629   955835   10.80%\n",
            " 101288 27408       85.3662    17       85.7200       76.6531  1017807   10.58%\n",
            " 106239 28021        cutoff             85.7200       76.8084  1057611   10.40%\n",
            " 111428 28865       79.1016    21       85.7200       76.9767  1112937   10.20%\n",
            " 116326 29596        cutoff             85.7200       77.1247  1166755   10.03%\n",
            " 121409 30229       79.3499    17       85.7200       77.2640  1216077    9.86%\n",
            " 126421 30937       82.2043    19       85.7200       77.3962  1271646    9.71%\n",
            " 131138 31596       84.1965    20       85.7200       77.5563  1324563    9.52%\n",
            "Elapsed time = 124.45 sec. (22012.94 ticks, tree = 11.35 MB, solutions = 9)\n",
            " 135907 32110       80.4943    21       85.7200       77.6685  1371206    9.39%\n",
            " 140743 32579       85.0758    18       85.7200       77.7716  1413307    9.27%\n",
            " 145470 33059       81.5711    19       85.7200       77.9000  1460250    9.12%\n",
            " 150417 33524       78.8105    23       85.7200       78.0107  1515249    8.99%\n",
            " 155216 33914       83.3603    22       85.7200       78.1122  1556339    8.88%\n",
            " 159761 34291       81.1143    17       85.7200       78.2283  1609961    8.74%\n",
            " 164496 34620       84.1317    16       85.7200       78.3374  1651969    8.61%\n",
            " 169324 35002    infeasible             85.7200       78.4240  1701083    8.51%\n",
            " 174070 35319       79.5502    19       85.7200       78.5180  1749629    8.40%\n",
            " 179008 35629       81.1317    23       85.7200       78.6167  1800112    8.29%\n",
            "Elapsed time = 181.37 sec. (31551.55 ticks, tree = 14.11 MB, solutions = 9)\n",
            " 183761 35875       83.5267     9       85.7200       78.7168  1842916    8.17%\n",
            " 188334 36146       83.6472    19       85.7200       78.8055  1891622    8.07%\n",
            " 192823 36338       83.9051    23       85.7200       78.8950  1930335    7.96%\n",
            " 197472 36597       83.3632    13       85.7200       78.9775  1979112    7.87%\n",
            " 201496 36701        cutoff             85.7200       79.0569  2019291    7.77%\n",
            " 205939 36847       83.7081    16       85.7200       79.1438  2058560    7.67%\n",
            " 210647 36943       81.2832    19       85.7200       79.2022  2098088    7.60%\n",
            " 215156 37075       83.2350    17       85.7200       79.2785  2146354    7.51%\n",
            " 219420 37156       81.2927    22       85.7200       79.3651  2189027    7.41%\n",
            " 223656 37240       82.3488    21       85.7200       79.4337  2228237    7.33%\n",
            "Elapsed time = 238.42 sec. (41090.80 ticks, tree = 14.71 MB, solutions = 9)\n",
            " 227843 37303        cutoff             85.7200       79.5189  2275083    7.23%\n",
            " 232159 37384       84.5525    20       85.7200       79.5796  2316066    7.16%\n",
            " 236431 37411       84.5074    20       85.7200       79.6569  2356453    7.07%\n",
            " 240993 37477       84.2369    22       85.7200       79.7208  2404766    7.00%\n",
            " 245031 37497        cutoff             85.7200       79.7836  2443797    6.93%\n",
            " 249366 37507       82.7243    19       85.7200       79.8459  2476996    6.85%\n",
            " 253697 37475       84.7499    21       85.7200       79.9043  2517475    6.78%\n",
            " 257759 37451       84.6736    13       85.7200       79.9684  2557702    6.71%\n",
            " 261981 37382       82.7807    15       85.7200       80.0296  2606229    6.64%\n",
            " 266098 37287       85.3986    21       85.7200       80.0928  2645078    6.56%\n",
            "Elapsed time = 296.12 sec. (50630.15 ticks, tree = 15.14 MB, solutions = 9)\n",
            " 270179 37214       84.8034    22       85.7200       80.1561  2685326    6.49%\n",
            " 274596 37130       84.0745    17       85.7200       80.2117  2718474    6.43%\n",
            " 278297 36989       84.5973    17       85.7200       80.2797  2765301    6.35%\n",
            " 282246 36870       81.2446    22       85.7200       80.3394  2796268    6.28%\n",
            " 286627 36738       81.1102    15       85.7200       80.4052  2844058    6.20%\n",
            " 290439 36635       85.4283    22       85.7200       80.4488  2874521    6.15%\n",
            " 294353 36484       80.8530    19       85.7200       80.5064  2913435    6.08%\n",
            " 298385 36293       81.0533    27       85.7200       80.5596  2953640    6.02%\n",
            " 302431 36097        cutoff             85.7200       80.6186  2992723    5.95%\n",
            " 306426 35893       84.4623    20       85.7200       80.6813  3033116    5.88%\n",
            "Elapsed time = 355.79 sec. (60170.17 ticks, tree = 14.63 MB, solutions = 9)\n",
            " 310285 35725        cutoff             85.7200       80.7232  3062133    5.83%\n",
            " 314105 35521       83.5216    21       85.7200       80.7719  3101603    5.77%\n",
            " 318010 35319        cutoff             85.7200       80.8313  3133417    5.70%\n",
            " 321742 34975       84.7966    22       85.7200       80.8951  3179373    5.63%\n",
            " 325711 34741       83.7262    16       85.7200       80.9421  3212202    5.57%\n",
            " 329618 34491       82.7504    19       85.7200       80.9916  3241668    5.52%\n",
            " 334130 34195       81.4561    27       85.7200       81.0525  3284224    5.45%\n",
            " 338103 33956       84.8754    22       85.7200       81.0875  3315283    5.40%\n",
            " 342013 33624       83.5613    21       85.7200       81.1527  3355870    5.33%\n",
            " 345734 33235        cutoff             85.7200       81.2060  3392184    5.27%\n",
            "Elapsed time = 415.99 sec. (69708.47 ticks, tree = 13.69 MB, solutions = 9)\n",
            " 349551 32885       83.9319    14       85.7200       81.2572  3432207    5.21%\n",
            " 353360 32584       81.8174    25       85.7200       81.3090  3461638    5.15%\n",
            " 357272 32241        cutoff             85.7200       81.3553  3495432    5.09%\n",
            " 361178 31811       81.6108    19       85.7200       81.4202  3536519    5.02%\n",
            " 364999 31383       82.0375    21       85.7200       81.4548  3574094    4.98%\n",
            " 368783 30981       84.1451    23       85.7200       81.5225  3607105    4.90%\n",
            " 372624 30612        cutoff             85.7200       81.5590  3635893    4.85%\n",
            " 376425 30120       84.3585    18       85.7200       81.6327  3676343    4.77%\n",
            " 380319 29755       81.8364    23       85.7200       81.6664  3704567    4.73%\n",
            " 384229 29070       84.8766    24       85.7200       81.7396  3754283    4.64%\n",
            "Elapsed time = 475.90 sec. (79246.59 ticks, tree = 12.26 MB, solutions = 9)\n",
            " 388145 28752       84.9583    13       85.7200       81.7750  3775780    4.60%\n",
            " 392086 28118       84.6353    16       85.7200       81.8297  3813317    4.54%\n",
            " 395979 27572       83.1176    24       85.7200       81.8847  3846747    4.47%\n",
            " 399921 26914    infeasible             85.7200       81.9480  3884745    4.40%\n",
            " 403870 26397        cutoff             85.7200       82.0043  3918390    4.33%\n",
            " 407854 25820        cutoff             85.7200       82.0433  3948421    4.29%\n",
            " 411852 25015       82.4398    13       85.7200       82.1098  3991837    4.21%\n",
            " 415846 24435       84.8055     9       85.7200       82.1736  4021699    4.14%\n",
            " 419773 23812       83.8208    17       85.7200       82.2192  4051320    4.08%\n",
            " 435612 20606       84.3816    18       85.7200       82.4748  4192071    3.79%\n",
            "Elapsed time = 555.41 sec. (91646.30 ticks, tree = 9.31 MB, solutions = 9)\n",
            " 451627 16484       85.4951    21       85.7200       82.7714  4337342    3.44%\n",
            " 468035 11487       85.7153    19       85.7200       83.2349  4471438    2.90%\n",
            " 486725   859       85.5809     9       85.7200       85.3020  4598777    0.49%\n",
            "\n",
            "Clique cuts applied:  5\n",
            "Cover cuts applied:  62\n",
            "Implied bound cuts applied:  405\n",
            "Flow cuts applied:  1\n",
            "Mixed integer rounding cuts applied:  2\n",
            "\n",
            "Root node processing (before b&c):\n",
            "  Real time             =    0.25 sec. (9.95 ticks)\n",
            "Parallel b&c, 2 threads:\n",
            "  Real time             =  630.16 sec. (103162.24 ticks)\n",
            "  Sync time (average)   =   10.22 sec.\n",
            "  Wait time (average)   =    0.73 sec.\n",
            "                          ------------\n",
            "Total (root+branch&cut) =  630.41 sec. (103172.19 ticks)\n"
          ],
          "name": "stdout"
        }
      ]
    },
    {
      "cell_type": "code",
      "metadata": {
        "id": "IkL0q4rBETLa",
        "colab_type": "code",
        "colab": {}
      },
      "source": [
        ""
      ],
      "execution_count": 0,
      "outputs": []
    },
    {
      "cell_type": "code",
      "metadata": {
        "id": "gX4ze3KJDqsK",
        "colab_type": "code",
        "colab": {
          "base_uri": "https://localhost:8080/",
          "height": 629
        },
        "outputId": "88c2a4b5-fbdd-44f6-e9b7-b9860d0b8c73"
      },
      "source": [
        "print(solution)"
      ],
      "execution_count": 14,
      "outputs": [
        {
          "output_type": "stream",
          "text": [
            "solution for: CVRP\n",
            "objective: 85.72\n",
            "x_0_8=1\n",
            "x_0_10=1\n",
            "x_0_13=1\n",
            "x_1_2=1\n",
            "x_2_0=1\n",
            "x_3_0=1\n",
            "x_4_3=1\n",
            "x_5_6=1\n",
            "x_6_4=1\n",
            "x_7_0=1\n",
            "x_8_5=1\n",
            "x_9_7=1\n",
            "x_10_12=1\n",
            "x_11_9=1\n",
            "x_12_11=1\n",
            "x_13_14=1\n",
            "x_14_15=1\n",
            "x_15_1=1\n",
            "u_1=81.000\n",
            "u_2=90.000\n",
            "u_3=90.000\n",
            "u_4=61.000\n",
            "u_5=46.000\n",
            "u_6=51.000\n",
            "u_7=90.000\n",
            "u_8=25.000\n",
            "u_9=79.000\n",
            "u_10=10.000\n",
            "u_11=49.000\n",
            "u_12=33.000\n",
            "u_13=18.000\n",
            "u_14=37.000\n",
            "u_15=58.000\n",
            "\n"
          ],
          "name": "stdout"
        }
      ]
    },
    {
      "cell_type": "code",
      "metadata": {
        "id": "VexNZJleD5dO",
        "colab_type": "code",
        "colab": {}
      },
      "source": [
        "active_arcs = [a for a in A if x[a].solution_value>0.9]"
      ],
      "execution_count": 0,
      "outputs": []
    },
    {
      "cell_type": "code",
      "metadata": {
        "id": "NLQbTceK-bGv",
        "colab_type": "code",
        "colab": {
          "base_uri": "https://localhost:8080/",
          "height": 34
        },
        "outputId": "2a608920-879a-4e93-8fd8-d3a404091e7a"
      },
      "source": [
        "solution.solve_status"
      ],
      "execution_count": 16,
      "outputs": [
        {
          "output_type": "execute_result",
          "data": {
            "text/plain": [
              "<JobSolveStatus.OPTIMAL_SOLUTION: 2>"
            ]
          },
          "metadata": {
            "tags": []
          },
          "execution_count": 16
        }
      ]
    },
    {
      "cell_type": "code",
      "metadata": {
        "id": "EE_mORhmD5yj",
        "colab_type": "code",
        "colab": {
          "base_uri": "https://localhost:8080/",
          "height": 323
        },
        "outputId": "cbc4a48a-edd7-4c56-d6b7-6a328d623e06"
      },
      "source": [
        "active_arcs"
      ],
      "execution_count": 17,
      "outputs": [
        {
          "output_type": "execute_result",
          "data": {
            "text/plain": [
              "[(0, 8),\n",
              " (0, 10),\n",
              " (0, 13),\n",
              " (1, 2),\n",
              " (2, 0),\n",
              " (3, 0),\n",
              " (4, 3),\n",
              " (5, 6),\n",
              " (6, 4),\n",
              " (7, 0),\n",
              " (8, 5),\n",
              " (9, 7),\n",
              " (10, 12),\n",
              " (11, 9),\n",
              " (12, 11),\n",
              " (13, 14),\n",
              " (14, 15),\n",
              " (15, 1)]"
            ]
          },
          "metadata": {
            "tags": []
          },
          "execution_count": 17
        }
      ]
    },
    {
      "cell_type": "code",
      "metadata": {
        "id": "D1Oytcf6D6ES",
        "colab_type": "code",
        "colab": {
          "base_uri": "https://localhost:8080/",
          "height": 270
        },
        "outputId": "ddae605d-7537-4c25-fb4a-ae262328ff40"
      },
      "source": [
        "plt.scatter(loc_x[1:],loc_y[1:],c='b')\n",
        "for i in N:\n",
        "    plt.annotate('$q_%d=%d$'%(i,q[i]),(loc_x[i]+2,loc_y[i]))\n",
        "for i,j in active_arcs:\n",
        "    plt.plot([loc_x[i],loc_x[j]],[loc_y[i],loc_y[j]],c='g', alpha=0.3)\n",
        "plt.plot(loc_x[0],loc_y[0],c='r',marker='s')\n",
        "plt.axis('equal');"
      ],
      "execution_count": 18,
      "outputs": [
        {
          "output_type": "display_data",
          "data": {
            "image/png": "[encoded data removed]",
            "text/plain": [
              "<Figure size 432x288 with 1 Axes>"
            ]
          },
          "metadata": {
            "tags": []
          }
        }
      ]
    }
  ]
}