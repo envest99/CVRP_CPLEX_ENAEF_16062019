{
  "nbformat": 4,
  "nbformat_minor": 0,
  "metadata": {
    "colab": {
      "name": "ENAEF_16062019.ipynb",
      "version": "0.3.2",
      "provenance": [],
      "collapsed_sections": [],
      "include_colab_link": true
    },
    "kernelspec": {
      "name": "python3",
      "display_name": "Python 3"
    }
  },
  "cells": [
    {
      "cell_type": "markdown",
      "metadata": {
        "id": "view-in-github",
        "colab_type": "text"
      },
      "source": [
        "<a href=\"https://colab.research.google.com/github/envest99/CVRP_CPLEX_ENAEF_16062019/blob/master/ENAEF_16062019.ipynb\" target=\"_parent\"><img src=\"https://colab.research.google.com/assets/colab-badge.svg\" alt=\"Open In Colab\"/></a>"
      ]
    },
    {
      "cell_type": "code",
      "metadata": {
        "id": "34ZRl9VPMy7D",
        "colab_type": "code",
        "colab": {}
      },
      "source": [
        "import networkx as nx\n",
        "import matplotlib.pyplot as plt\n",
        "G=nx.Graph()"
      ],
      "execution_count": 0,
      "outputs": []
    },
    {
      "cell_type": "code",
      "metadata": {
        "id": "HVa4wOtkQ3LJ",
        "colab_type": "code",
        "outputId": "a41f33e0-9c7d-469e-c146-27a7e2a9778c",
        "colab": {
          "base_uri": "https://localhost:8080/",
          "height": 34
        }
      },
      "source": [
        "#IML-Operations Research GCP/Pg8 (determine number of fridges)\n",
        "import networkx as nx\n",
        "import matplotlib.pyplot as plt\n",
        "G=nx.Graph()\n",
        "\n",
        "colors = ['Red', 'Blue', 'Green', 'Yellow',  'Black', 'Pink', 'Orange', 'White', 'Gray', 'Purple', 'Brown', 'Navy']\n",
        "\n",
        "G.add_nodes_from([1,2,3,4])\n",
        "G.add_edges_from([(1,2),(2,3),(3,4)])\n",
        "colors_of_nodes={}\n",
        "\n",
        "#color_of_neighbor = colors_of_nodes(neighbor)\n",
        "\n",
        "def coloring(node, color):\n",
        "   for neighbor in G.neighbors(node):\n",
        "       color_of_neighbor = colors_of_nodes.get(neighbor, None)\n",
        "       if color_of_neighbor == color:\n",
        "          return False\n",
        "\n",
        "   return True\n",
        "\n",
        "def get_color_for_node(node):\n",
        "    for color in colors:\n",
        "       if coloring(node, color):\n",
        "          return color\n",
        "\n",
        "def main():\n",
        "    for node in G.nodes():\n",
        "        colors_of_nodes[node] = get_color_for_node(node)\n",
        "\n",
        "    print (colors_of_nodes)\n",
        "\n",
        "\n",
        "main()"
      ],
      "execution_count": 0,
      "outputs": [
        {
          "output_type": "stream",
          "text": [
            "{1: 'Red', 2: 'Blue', 3: 'Red', 4: 'Blue'}\n"
          ],
          "name": "stdout"
        }
      ]
    },
    {
      "cell_type": "code",
      "metadata": {
        "id": "y1qkuwBqQg5L",
        "colab_type": "code",
        "outputId": "04274f74-ff62-4a64-8fb6-8c8aeb0f4f15",
        "colab": {
          "base_uri": "https://localhost:8080/",
          "height": 34
        }
      },
      "source": [
        "#IML-Operations Research Rev2/Pg84 (determine number of periods)\n",
        "import networkx as nx\n",
        "import matplotlib.pyplot as plt\n",
        "G=nx.Graph()\n",
        "\n",
        "colors = ['Red', 'Blue', 'Green', 'Yellow',  'Black', 'Pink', 'Orange', 'White', 'Gray', 'Purple', 'Brown', 'Navy']\n",
        "\n",
        "G.add_nodes_from([1,2,3,4,5,6])\n",
        "G.add_edges_from([(1,2),(1,3),(1,4),(1,5),(1,6),(2,3),(2,4),(3,4),(5,6)])\n",
        "colors_of_nodes={}\n",
        "\n",
        "#color_of_neighbor = colors_of_nodes(neighbor)\n",
        "\n",
        "def coloring(node, color):\n",
        "   for neighbor in G.neighbors(node):\n",
        "       color_of_neighbor = colors_of_nodes.get(neighbor, None)\n",
        "       if color_of_neighbor == color:\n",
        "          return False\n",
        "\n",
        "   return True\n",
        "\n",
        "def get_color_for_node(node):\n",
        "    for color in colors:\n",
        "       if coloring(node, color):\n",
        "          return color\n",
        "\n",
        "def main():\n",
        "    for node in G.nodes():\n",
        "        colors_of_nodes[node] = get_color_for_node(node)\n",
        "\n",
        "    print (colors_of_nodes)\n",
        "\n",
        "\n",
        "main()"
      ],
      "execution_count": 0,
      "outputs": [
        {
          "output_type": "stream",
          "text": [
            "{1: 'Red', 2: 'Blue', 3: 'Green', 4: 'Yellow', 5: 'Blue', 6: 'Green'}\n"
          ],
          "name": "stdout"
        }
      ]
    },
    {
      "cell_type": "code",
      "metadata": {
        "id": "N1YuTwPWM3Ho",
        "colab_type": "code",
        "outputId": "830619a2-6c01-4c48-eb6c-62b3f7292840",
        "colab": {
          "base_uri": "https://localhost:8080/",
          "height": 34
        }
      },
      "source": [
        "#IML-Operations Research Rev3/Pg85 (determine number of docks)\n",
        "import networkx as nx\n",
        "import matplotlib.pyplot as plt\n",
        "G=nx.Graph()\n",
        "\n",
        "colors = ['Red', 'Blue', 'Green', 'Yellow',  'Black', 'Pink', 'Orange', 'White', 'Gray', 'Purple', 'Brown', 'Navy']\n",
        "\n",
        "G.add_nodes_from([1,2,3,4,5,6,7])\n",
        "G.add_edges_from([(1,2),(2,3),(2,4),(4,5),(3,5),(3,4),(5,6),(5,7),(7,6)])\n",
        "colors_of_nodes={}\n",
        "\n",
        "#color_of_neighbor = colors_of_nodes(neighbor)\n",
        "\n",
        "def coloring(node, color):\n",
        "   for neighbor in G.neighbors(node):\n",
        "       color_of_neighbor = colors_of_nodes.get(neighbor, None)\n",
        "       if color_of_neighbor == color:\n",
        "          return False\n",
        "\n",
        "   return True\n",
        "\n",
        "def get_color_for_node(node):\n",
        "    for color in colors:\n",
        "       if coloring(node, color):\n",
        "          return color\n",
        "\n",
        "def main():\n",
        "    for node in G.nodes():\n",
        "        colors_of_nodes[node] = get_color_for_node(node)\n",
        "\n",
        "    print (colors_of_nodes)\n",
        "\n",
        "\n",
        "main()"
      ],
      "execution_count": 0,
      "outputs": [
        {
          "output_type": "stream",
          "text": [
            "{1: 'Red', 2: 'Blue', 3: 'Red', 4: 'Green', 5: 'Blue', 6: 'Red', 7: 'Green'}\n"
          ],
          "name": "stdout"
        }
      ]
    },
    {
      "cell_type": "code",
      "metadata": {
        "id": "U6WZRToJOfdZ",
        "colab_type": "code",
        "outputId": "32de6053-2b47-4f94-be71-33dfc1dab534",
        "colab": {
          "base_uri": "https://localhost:8080/",
          "height": 153
        }
      },
      "source": [
        "pip install tsp_solver2"
      ],
      "execution_count": 0,
      "outputs": [
        {
          "output_type": "stream",
          "text": [
            "Collecting tsp_solver2\n",
            "  Downloading https://files.pythonhosted.org/packages/25/13/aa5f2342b889a30db6bd33204e0b50efefd0314ab95ea165967ec334718e/tsp_solver2-0.3.tar.gz\n",
            "Building wheels for collected packages: tsp-solver2\n",
            "  Building wheel for tsp-solver2 (setup.py) ... \u001b[?25l\u001b[?25hdone\n",
            "  Stored in directory: /root/.cache/pip/wheels/94/f4/5b/b14b943103a31f22459260f2046bdb5cd6502a6be8321f35bb\n",
            "Successfully built tsp-solver2\n",
            "Installing collected packages: tsp-solver2\n",
            "Successfully installed tsp-solver2-0.3\n"
          ],
          "name": "stdout"
        }
      ]
    },
    {
      "cell_type": "code",
      "metadata": {
        "id": "OCnF8-dUgFMl",
        "colab_type": "code",
        "outputId": "6c978fd4-0039-4fe7-f1b3-754b7c293c36",
        "colab": {
          "base_uri": "https://localhost:8080/",
          "height": 34
        }
      },
      "source": [
        "#IML-Operations Research Heuristics/Pg55 (regular TSP Case)\n",
        "#Run 'pip install tsp_solver2' beforehand\n",
        "\n",
        "from tsp_solver.greedy import solve_tsp\n",
        "\n",
        "#Prepare the square symmetric distance matrix for 3 nodes:\n",
        "#  Time from 0 to 1 is 1.0\n",
        "#            0 to 2 is 2.0\n",
        "#            0 to 3 is 5.0\n",
        "#            0 to 4 is 10.0\n",
        "#            1 to 2 is 3.0\n",
        "#            1 to 3 is 4.0\n",
        "#            1 to 4 is 9.0\n",
        "#            2 to 3 is 6.0\n",
        "#            2 to 4 is 7.0\n",
        "#            3 to 4 is 8.0\n",
        "\n",
        "\n",
        "D = [[],\n",
        "     [1.0],\n",
        "     [2.0, 3.0],\n",
        "     [5.0, 4.0, 6.0],\n",
        "     [10.0, 9.0, 7.0, 8.0]]\n",
        "\n",
        "path = solve_tsp(D)\n",
        "#path = solve_tsp( D, endpoints = (0,3))\n",
        "#will print [1,0,2], path with total length of 3.0 units\n",
        "#solve_tsp.util.path_cost(D, path)\n",
        "print(path)"
      ],
      "execution_count": 0,
      "outputs": [
        {
          "output_type": "stream",
          "text": [
            "[3, 1, 0, 2, 4]\n"
          ],
          "name": "stdout"
        }
      ]
    },
    {
      "cell_type": "code",
      "metadata": {
        "id": "ehHHj_DOOj8f",
        "colab_type": "code",
        "outputId": "779e62e0-55e8-450c-d5a1-e45ee84520b4",
        "colab": {
          "base_uri": "https://localhost:8080/",
          "height": 34
        }
      },
      "source": [
        "#IML-Operations Research Rev6/Pg91 (Schedule Jobs to Min. Time)\n",
        "#Run 'pip install tsp_solver2' beforehand\n",
        "\n",
        "from tsp_solver.greedy import solve_tsp\n",
        "\n",
        "#Prepare the square symmetric distance matrix for 3 nodes:\n",
        "#  Time from 0 to 1 is 1.0\n",
        "#            0 to 2 is 2.0\n",
        "#            0 to 3 is 3.0\n",
        "#            1 to 2 is 6.0\n",
        "#            1 to 3 is 4.0\n",
        "#            2 to 3 is 5.0\n",
        "\n",
        "\n",
        "D = [[],\n",
        "     [1.0],\n",
        "     [2.0, 6.0],\n",
        "     [3.0, 4.0, 5.0]]\n",
        "\n",
        "path = solve_tsp(D)\n",
        "#path = solve_tsp( D, endpoints = (0,3))\n",
        "#will print [1,0,2], path with total length of 3.0 units\n",
        "#solve_tsp.util.path_cost(D, path)\n",
        "print(path)\n"
      ],
      "execution_count": 0,
      "outputs": [
        {
          "output_type": "stream",
          "text": [
            "[2, 0, 1, 3]\n"
          ],
          "name": "stdout"
        }
      ]
    },
    {
      "cell_type": "code",
      "metadata": {
        "id": "zDqJ4pvTlt3C",
        "colab_type": "code",
        "outputId": "69c6d57b-85de-40b7-910f-15e11b92fa1f",
        "colab": {
          "base_uri": "https://localhost:8080/",
          "height": 34
        }
      },
      "source": [
        "#IML-Operations Research Rev8/Pg97 (determine minimum number of periods)\n",
        "import networkx as nx\n",
        "import matplotlib.pyplot as plt\n",
        "G=nx.Graph()\n",
        "\n",
        "colors = ['Red', 'Blue', 'Green', 'Yellow',  'Black', 'Pink', 'Orange', 'White', 'Gray', 'Purple', 'Brown', 'Navy']\n",
        "\n",
        "G.add_nodes_from([1,2,3,4,5,6,7,8,9])\n",
        "G.add_edges_from([(1,2),(1,4),(2,3),(2,5),(2,6),(3,5),(3,6),(4,5),(4,7),(4,8),(5,6),(5,7),(5,8),(6,9),(7,8),(9,8)])\n",
        "colors_of_nodes={}\n",
        "\n",
        "#color_of_neighbor = colors_of_nodes(neighbor)\n",
        "\n",
        "def coloring(node, color):\n",
        "   for neighbor in G.neighbors(node):\n",
        "       color_of_neighbor = colors_of_nodes.get(neighbor, None)\n",
        "       if color_of_neighbor == color:\n",
        "          return False\n",
        "\n",
        "   return True\n",
        "\n",
        "def get_color_for_node(node):\n",
        "    for color in colors:\n",
        "       if coloring(node, color):\n",
        "          return color\n",
        "\n",
        "def main():\n",
        "    for node in G.nodes():\n",
        "        colors_of_nodes[node] = get_color_for_node(node)\n",
        "\n",
        "    print (colors_of_nodes)\n",
        "\n",
        "\n",
        "main()"
      ],
      "execution_count": 0,
      "outputs": [
        {
          "output_type": "stream",
          "text": [
            "{1: 'Red', 2: 'Blue', 3: 'Red', 4: 'Blue', 5: 'Green', 6: 'Yellow', 7: 'Red', 8: 'Yellow', 9: 'Red'}\n"
          ],
          "name": "stdout"
        }
      ]
    }
  ]
}